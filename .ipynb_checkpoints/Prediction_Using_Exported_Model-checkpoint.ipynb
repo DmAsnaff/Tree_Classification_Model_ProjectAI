{
 "cells": [
  {
   "cell_type": "code",
   "execution_count": 1,
   "id": "0a8c19dc",
   "metadata": {},
   "outputs": [],
   "source": [
    "import numpy as np\n",
    "from keras.utils.np_utils import to_categorical"
   ]
  },
  {
   "cell_type": "code",
   "execution_count": 2,
   "id": "cebcdab4",
   "metadata": {},
   "outputs": [],
   "source": [
    "import pandas as pd\n",
    "\n",
    "train_data = pd.read_csv('projectAI_train.csv')\n",
    "test_data = pd.read_csv('projectAI_test.csv')"
   ]
  },
  {
   "cell_type": "code",
   "execution_count": 3,
   "id": "abc21b6b",
   "metadata": {},
   "outputs": [],
   "source": [
    "x_test = test_data.iloc[:, :-1].values    # Features: all columns except the last\n",
    "y_test = test_data.iloc[:, -1].values     # Labels: the last column"
   ]
  },
  {
   "cell_type": "code",
   "execution_count": 4,
   "id": "a2011bf0",
   "metadata": {},
   "outputs": [
    {
     "name": "stdout",
     "output_type": "stream",
     "text": [
      "x_test shape: (90, 3)\n",
      "y_test shape: (90,)\n"
     ]
    }
   ],
   "source": [
    "print(f\"x_test shape: {x_test.shape}\")\n",
    "print(f\"y_test shape: {y_test.shape}\")"
   ]
  },
  {
   "cell_type": "code",
   "execution_count": 5,
   "id": "5bf31377",
   "metadata": {},
   "outputs": [],
   "source": [
    "one_hot_test_labels = to_categorical(y_test)"
   ]
  },
  {
   "cell_type": "code",
   "execution_count": 6,
   "id": "89a468ac",
   "metadata": {},
   "outputs": [
    {
     "name": "stdout",
     "output_type": "stream",
     "text": [
      "y_test shape: (90, 3)\n"
     ]
    }
   ],
   "source": [
    "print(f\"y_test shape: {one_hot_test_labels.shape}\")"
   ]
  },
  {
   "cell_type": "code",
   "execution_count": 7,
   "id": "34fab720",
   "metadata": {},
   "outputs": [],
   "source": [
    "from keras.models import load_model\n",
    "\n",
    "# Load the saved model\n",
    "model = load_model('Tree_best_model.h5')\n"
   ]
  },
  {
   "cell_type": "code",
   "execution_count": 8,
   "id": "844d7004",
   "metadata": {},
   "outputs": [
    {
     "name": "stdout",
     "output_type": "stream",
     "text": [
      "1/1 [==============================] - 0s 192ms/step\n"
     ]
    }
   ],
   "source": [
    "# Predict the probabilities for the test samples\n",
    "predictions = model.predict(x_test[:10])"
   ]
  },
  {
   "cell_type": "code",
   "execution_count": 9,
   "id": "7936a097",
   "metadata": {},
   "outputs": [],
   "source": [
    "\n",
    "# Define class names (assuming you have a mapping or know the class names)\n",
    "class_names = ['Millettia Pinnata (Pongamia/Indian Beech)_Ahlaq', 'Bougainvillea glabra_Poornima', 'Ficus benjamina L._Asnaff']  # Adjust according to your dataset\n",
    "\n"
   ]
  },
  {
   "cell_type": "code",
   "execution_count": 10,
   "id": "aab61175",
   "metadata": {},
   "outputs": [
    {
     "name": "stdout",
     "output_type": "stream",
     "text": [
      "Sample 1: Max Probability = 0.9777, Class Label = 2, Species Name = Ficus benjamina L._Asnaff\n",
      "Sample 2: Max Probability = 0.9350, Class Label = 1, Species Name = Bougainvillea glabra_Poornima\n",
      "Sample 3: Max Probability = 0.9777, Class Label = 2, Species Name = Ficus benjamina L._Asnaff\n",
      "Sample 4: Max Probability = 0.9768, Class Label = 0, Species Name = Millettia Pinnata (Pongamia/Indian Beech)_Ahlaq\n",
      "Sample 5: Max Probability = 0.9381, Class Label = 1, Species Name = Bougainvillea glabra_Poornima\n",
      "Sample 6: Max Probability = 0.9517, Class Label = 1, Species Name = Bougainvillea glabra_Poornima\n",
      "Sample 7: Max Probability = 0.9786, Class Label = 2, Species Name = Ficus benjamina L._Asnaff\n",
      "Sample 8: Max Probability = 0.8963, Class Label = 0, Species Name = Millettia Pinnata (Pongamia/Indian Beech)_Ahlaq\n",
      "Sample 9: Max Probability = 0.7283, Class Label = 1, Species Name = Bougainvillea glabra_Poornima\n",
      "Sample 10: Max Probability = 0.9747, Class Label = 2, Species Name = Ficus benjamina L._Asnaff\n"
     ]
    }
   ],
   "source": [
    "\n",
    "# Print the predicted class, probability, and class name for each of the first 10 samples\n",
    "for i, prediction in enumerate(predictions):\n",
    "    class_index = np.argmax(prediction)  # Find the index of the max probability\n",
    "    max_probability = np.max(prediction)  # Find the max probability value\n",
    "    class_label = class_index # Adjust class index if labels are 1-based\n",
    "    class_name = class_names[class_index]  # Get the class name using the index\n",
    "    print(f\"Sample {i+1}: Max Probability = {max_probability:.4f}, Class Label = {class_label}, Species Name = {class_name}\")\n"
   ]
  },
  {
   "cell_type": "code",
   "execution_count": 11,
   "id": "6af46319",
   "metadata": {},
   "outputs": [],
   "source": [
    "# Function to load the model and predict a specific sample's class\n",
    "def predict_sample_class(sample_index):\n",
    "\n",
    "    # Ensure the sample index is within the bounds of the test dataset \n",
    "    # I have total 90 so i should define range below this\n",
    "    if sample_index < 0 or sample_index >= len(x_test):\n",
    "        return \"Invalid sample index. Please provide a valid index within the range of the dataset.\"\n",
    "    \n",
    "    print ('Range : ', sample_index, ':', sample_index+1)\n",
    "\n",
    "    # Predict the probabilities for the specified sample\n",
    "    #doing slice between 11 to 11 +1 ...it covers 11th index \n",
    "    prediction = model.predict(x_test[sample_index:sample_index+1])\n",
    "\n",
    "\n",
    "    # Find the index of the max probability\n",
    "    class_index = np.argmax(prediction)\n",
    "    print (class_index)\n",
    "\n",
    "    # Find the max probability value\n",
    "    max_probability = np.max(prediction)\n",
    "\n",
    "    # Adjust class index if labels are 1-based\n",
    "    class_label = class_index\n",
    "\n",
    "    # Get the class name using the index\n",
    "    class_name = class_names[class_index]\n",
    "\n",
    "    # Print the output\n",
    "    return f\"Sample {sample_index}: Max Probability = {max_probability:.4f}, Class Label = {class_label}, Species Name = {class_name}\"\n",
    "\n"
   ]
  },
  {
   "cell_type": "code",
   "execution_count": 12,
   "id": "0404f775",
   "metadata": {},
   "outputs": [
    {
     "name": "stdout",
     "output_type": "stream",
     "text": [
      "Range :  11 : 12\n",
      "1/1 [==============================] - 0s 33ms/step\n",
      "2\n",
      "Sample 11: Max Probability = 0.9678, Class Label = 2, Species Name = Ficus benjamina L._Asnaff\n"
     ]
    }
   ],
   "source": [
    "\n",
    "sample_index = 11  \n",
    "output = predict_sample_class(sample_index)\n",
    "print(output)\n"
   ]
  },
  {
   "cell_type": "code",
   "execution_count": 13,
   "id": "7f5885e5",
   "metadata": {},
   "outputs": [
    {
     "name": "stdout",
     "output_type": "stream",
     "text": [
      "Enter Length of the Leaf(cm): 10.5\n",
      "Enter Width of the Leaf(cm): 6.7\n",
      "Enter angle leafbase construct with petiole: 145\n",
      "1/1 [==============================] - 0s 33ms/step\n",
      "Predicted class = 0, Species Name = Millettia Pinnata (Pongamia/Indian Beech)_Ahlaq, 0.9819174408912659\n"
     ]
    }
   ],
   "source": [
    "# Function to get input from the user and preprocess it\n",
    "def get_user_input():\n",
    "    try:\n",
    "        feature1 = float(input(\"Enter Length of the Leaf(cm): \"))\n",
    "        feature2 = float(input(\"Enter Width of the Leaf(cm): \"))\n",
    "        feature3 = float(input(\"Enter angle leafbase construct with petiole: \"))\n",
    "                      \n",
    "        if not (0 <= feature1 <= 18 and 0 <= feature2 <= 13 and 0 <= feature3 <= 170):\n",
    "            print(\"Invalid input. Please enter values within the valid range.\")\n",
    "            return None\n",
    "        \n",
    "    except ValueError:\n",
    "        print(\"Invalid input. Please enter numerical values.\")\n",
    "        return None\n",
    "\n",
    "    # Check if any of the features are empty\n",
    "    if feature1 == \"\" or feature2 == \"\" or feature3 == \"\":\n",
    "        print(\"Empty input. Please enter numerical values.\")\n",
    "        return None\n",
    "\n",
    "    # Create a numpy array with the input features\n",
    "    user_input = np.array([[feature1, feature2, feature3]])\n",
    "    \n",
    "    # Return the input for prediction\n",
    "    return user_input\n",
    "\n",
    "# Get user input\n",
    "user_input = get_user_input()\n",
    "\n",
    "if user_input is not None:\n",
    "    # Make a prediction\n",
    "    prediction = model.predict(user_input)\n",
    "    \n",
    "    # Get the predicted class index\n",
    "    class_index = np.argmax(prediction, axis=1)\n",
    "    \n",
    "    # Define a default class index\n",
    "    def default_class_index(): \n",
    "        print('Hard to predict, Values are near to all three species')  \n",
    "    \n",
    "    # Check if the maximum probability is below a certain threshold (optional)\n",
    "    if np.max(prediction) < 0.51:\n",
    "        default_class_index()\n",
    "    else:\n",
    "        # Get the class name using the index (replace class_names with your actual class names)\n",
    "        class_name = class_names[class_index[0]]\n",
    "        print(f\"Predicted class = {class_index[0]}, Species Name = {class_name}, {np.max(prediction)}\")\n",
    "\n",
    "else:\n",
    "    print(\"No valid input provided.\")\n",
    "\n",
    "    \n",
    "    \n",
    "    "
   ]
  },
  {
   "cell_type": "code",
   "execution_count": 14,
   "id": "1c416ea6",
   "metadata": {},
   "outputs": [
    {
     "name": "stdout",
     "output_type": "stream",
     "text": [
      "Enter Length of the Leaf(cm): 150\n",
      "Enter Width of the Leaf(cm): 500\n",
      "Enter angle leafbase construct with petiole: 360\n",
      "Invalid input. Please enter values within the valid range.\n",
      "No valid input provided.\n"
     ]
    }
   ],
   "source": [
    "# Function to get input from the user and preprocess it\n",
    "def get_user_input():\n",
    "    try:\n",
    "        feature1 = float(input(\"Enter Length of the Leaf(cm): \"))\n",
    "        feature2 = float(input(\"Enter Width of the Leaf(cm): \"))\n",
    "        feature3 = float(input(\"Enter angle leafbase construct with petiole: \"))\n",
    "                      \n",
    "        if not (0 <= feature1 <= 18 and 0 <= feature2 <= 13 and 0 <= feature3 <= 170):\n",
    "            print(\"Invalid input. Please enter values within the valid range.\")\n",
    "            return None\n",
    "        \n",
    "    except ValueError:\n",
    "        print(\"Invalid input. Please enter numerical values.\")\n",
    "        return None\n",
    "\n",
    "    # Check if any of the features are empty\n",
    "    if feature1 == \"\" or feature2 == \"\" or feature3 == \"\":\n",
    "        print(\"Empty input. Please enter numerical values.\")\n",
    "        return None\n",
    "\n",
    "    # Create a numpy array with the input features\n",
    "    user_input = np.array([[feature1, feature2, feature3]])\n",
    "    \n",
    "    # Return the input for prediction\n",
    "    return user_input\n",
    "\n",
    "# Get user input\n",
    "user_input = get_user_input()\n",
    "\n",
    "if user_input is not None:\n",
    "    # Make a prediction\n",
    "    prediction = model.predict(user_input)\n",
    "    \n",
    "    # Get the predicted class index\n",
    "    class_index = np.argmax(prediction, axis=1)\n",
    "    \n",
    "    # Define a default class index\n",
    "    def default_class_index(): \n",
    "        print('Hard to predict, Values are near to all three species')  \n",
    "    \n",
    "    # Check if the maximum probability is below a certain threshold (optional)\n",
    "    if np.max(prediction) < 0.51:\n",
    "        default_class_index()\n",
    "    else:\n",
    "        # Get the class name using the index (replace class_names with your actual class names)\n",
    "        class_name = class_names[class_index[0]]\n",
    "        print(f\"Predicted class = {class_index[0]}, Species Name = {class_name}, {np.max(prediction)}\")\n",
    "\n",
    "else:\n",
    "    print(\"No valid input provided.\")\n",
    "\n",
    "    \n",
    "    \n",
    "    "
   ]
  },
  {
   "cell_type": "code",
   "execution_count": 18,
   "id": "a255f3b2",
   "metadata": {},
   "outputs": [
    {
     "name": "stdout",
     "output_type": "stream",
     "text": [
      "Enter Length of the Leaf(cm): 8\n",
      "Enter Width of the Leaf(cm): 4.8\n",
      "Enter angle leafbase construct with petiole: 150\n",
      "1/1 [==============================] - 0s 33ms/step\n",
      "Hard to predict, Values are near to all three species\n"
     ]
    }
   ],
   "source": [
    "# Function to get input from the user and preprocess it\n",
    "def get_user_input():\n",
    "    try:\n",
    "        feature1 = float(input(\"Enter Length of the Leaf(cm): \"))\n",
    "        feature2 = float(input(\"Enter Width of the Leaf(cm): \"))\n",
    "        feature3 = float(input(\"Enter angle leafbase construct with petiole: \"))\n",
    "                      \n",
    "        if not (0 <= feature1 <= 18 and 0 <= feature2 <= 13 and 0 <= feature3 <= 170):\n",
    "            print(\"Invalid input. Please enter values within the valid range.\")\n",
    "            return None\n",
    "        \n",
    "    except ValueError:\n",
    "        print(\"Invalid input. Please enter numerical values.\")\n",
    "        return None\n",
    "\n",
    "    # Check if any of the features are empty\n",
    "    if feature1 == \"\" or feature2 == \"\" or feature3 == \"\":\n",
    "        print(\"Empty input. Please enter numerical values.\")\n",
    "        return None\n",
    "\n",
    "    # Create a numpy array with the input features\n",
    "    user_input = np.array([[feature1, feature2, feature3]])\n",
    "    \n",
    "    # Return the input for prediction\n",
    "    return user_input\n",
    "\n",
    "# Get user input\n",
    "user_input = get_user_input()\n",
    "\n",
    "if user_input is not None:\n",
    "    # Make a prediction\n",
    "    prediction = model.predict(user_input)\n",
    "    \n",
    "    # Get the predicted class index\n",
    "    class_index = np.argmax(prediction, axis=1)\n",
    "    \n",
    "    # Define a default class index\n",
    "    def default_class_index(): \n",
    "        print('Hard to predict, Values are near to all three species')  \n",
    "    \n",
    "    # Check if the maximum probability is below a certain threshold (optional)\n",
    "    if np.max(prediction) < 0.51:\n",
    "        default_class_index()\n",
    "    else:\n",
    "        # Get the class name using the index (replace class_names with your actual class names)\n",
    "        class_name = class_names[class_index[0]]\n",
    "        print(f\"Predicted class = {class_index[0]}, Species Name = {class_name}, {np.max(prediction)}\")\n",
    "\n",
    "else:\n",
    "    print(\"No valid input provided.\")\n",
    "\n",
    "    \n",
    "    \n",
    "    \n",
    "    "
   ]
  },
  {
   "cell_type": "code",
   "execution_count": 19,
   "id": "68f332ee",
   "metadata": {},
   "outputs": [
    {
     "name": "stdout",
     "output_type": "stream",
     "text": [
      "Enter Length of the Leaf(cm): a\n",
      "Invalid input. Please enter numerical values.\n",
      "No valid input provided.\n"
     ]
    }
   ],
   "source": [
    "# Function to get input from the user and preprocess it\n",
    "def get_user_input():\n",
    "    try:\n",
    "        feature1 = float(input(\"Enter Length of the Leaf(cm): \"))\n",
    "        feature2 = float(input(\"Enter Width of the Leaf(cm): \"))\n",
    "        feature3 = float(input(\"Enter angle leafbase construct with petiole: \"))\n",
    "                      \n",
    "        if not (0 <= feature1 <= 18 and 0 <= feature2 <= 13 and 0 <= feature3 <= 170):\n",
    "            print(\"Invalid input. Please enter values within the valid range.\")\n",
    "            return None\n",
    "        \n",
    "    except ValueError:\n",
    "        print(\"Invalid input. Please enter numerical values.\")\n",
    "        return None\n",
    "\n",
    "    # Check if any of the features are empty\n",
    "    if feature1 == \"\" or feature2 == \"\" or feature3 == \"\":\n",
    "        print(\"Empty input. Please enter numerical values.\")\n",
    "        return None\n",
    "\n",
    "    # Create a numpy array with the input features\n",
    "    user_input = np.array([[feature1, feature2, feature3]])\n",
    "    \n",
    "    # Return the input for prediction\n",
    "    return user_input\n",
    "\n",
    "# Get user input\n",
    "user_input = get_user_input()\n",
    "\n",
    "if user_input is not None:\n",
    "    # Make a prediction\n",
    "    prediction = model.predict(user_input)\n",
    "    \n",
    "    # Get the predicted class index\n",
    "    class_index = np.argmax(prediction, axis=1)\n",
    "    \n",
    "    # Define a default class index\n",
    "    def default_class_index(): \n",
    "        print('Hard to predict, Values are near to all three species')  \n",
    "    \n",
    "    # Check if the maximum probability is below a certain threshold (optional)\n",
    "    if np.max(prediction) < 0.51:\n",
    "        default_class_index()\n",
    "    else:\n",
    "        # Get the class name using the index (replace class_names with your actual class names)\n",
    "        class_name = class_names[class_index[0]]\n",
    "        print(f\"Predicted class = {class_index[0]}, Species Name = {class_name}, {np.max(prediction)}\")\n",
    "\n",
    "else:\n",
    "    print(\"No valid input provided.\")\n",
    "\n",
    "    \n",
    "    \n",
    "    \n",
    "    \n",
    "    "
   ]
  },
  {
   "cell_type": "code",
   "execution_count": 20,
   "id": "347e906e",
   "metadata": {},
   "outputs": [
    {
     "name": "stdout",
     "output_type": "stream",
     "text": [
      "Enter Length of the Leaf(cm): \n",
      "Invalid input. Please enter numerical values.\n",
      "No valid input provided.\n"
     ]
    }
   ],
   "source": [
    "# Function to get input from the user and preprocess it\n",
    "def get_user_input():\n",
    "    try:\n",
    "        feature1 = float(input(\"Enter Length of the Leaf(cm): \"))\n",
    "        feature2 = float(input(\"Enter Width of the Leaf(cm): \"))\n",
    "        feature3 = float(input(\"Enter angle leafbase construct with petiole: \"))\n",
    "                      \n",
    "        if not (0 <= feature1 <= 18 and 0 <= feature2 <= 13 and 0 <= feature3 <= 170):\n",
    "            print(\"Invalid input. Please enter values within the valid range.\")\n",
    "            return None\n",
    "        \n",
    "    except ValueError:\n",
    "        print(\"Invalid input. Please enter numerical values.\")\n",
    "        return None\n",
    "\n",
    "    # Check if any of the features are empty\n",
    "    if feature1 == \"\" or feature2 == \"\" or feature3 == \"\":\n",
    "        print(\"Empty input. Please enter numerical values.\")\n",
    "        return None\n",
    "\n",
    "    # Create a numpy array with the input features\n",
    "    user_input = np.array([[feature1, feature2, feature3]])\n",
    "    \n",
    "    # Return the input for prediction\n",
    "    return user_input\n",
    "\n",
    "# Get user input\n",
    "user_input = get_user_input()\n",
    "\n",
    "if user_input is not None:\n",
    "    # Make a prediction\n",
    "    prediction = model.predict(user_input)\n",
    "    \n",
    "    # Get the predicted class index\n",
    "    class_index = np.argmax(prediction, axis=1)\n",
    "    \n",
    "    # Define a default class index\n",
    "    def default_class_index(): \n",
    "        print('Hard to predict, Values are near to all three species')  \n",
    "    \n",
    "    # Check if the maximum probability is below a certain threshold (optional)\n",
    "    if np.max(prediction) < 0.51:\n",
    "        default_class_index()\n",
    "    else:\n",
    "        # Get the class name using the index (replace class_names with your actual class names)\n",
    "        class_name = class_names[class_index[0]]\n",
    "        print(f\"Predicted class = {class_index[0]}, Species Name = {class_name}, {np.max(prediction)}\")\n",
    "\n",
    "else:\n",
    "    print(\"No valid input provided.\")\n",
    "\n",
    "    \n",
    "    \n",
    "    \n",
    "    \n",
    "    \n",
    "    "
   ]
  },
  {
   "cell_type": "code",
   "execution_count": null,
   "id": "0e3d22ca",
   "metadata": {},
   "outputs": [],
   "source": []
  }
 ],
 "metadata": {
  "kernelspec": {
   "display_name": "Python 3 (ipykernel)",
   "language": "python",
   "name": "python3"
  },
  "language_info": {
   "codemirror_mode": {
    "name": "ipython",
    "version": 3
   },
   "file_extension": ".py",
   "mimetype": "text/x-python",
   "name": "python",
   "nbconvert_exporter": "python",
   "pygments_lexer": "ipython3",
   "version": "3.7.16"
  }
 },
 "nbformat": 4,
 "nbformat_minor": 5
}
