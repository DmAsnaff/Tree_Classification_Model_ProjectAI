{
 "cells": [
  {
   "cell_type": "code",
   "execution_count": 1,
   "id": "15c9d43f",
   "metadata": {},
   "outputs": [],
   "source": [
    "import pandas as pd\n",
    "\n",
    "train_data = pd.read_csv('projectAI_train.csv')\n",
    "test_data = pd.read_csv('projectAI_test.csv')"
   ]
  },
  {
   "cell_type": "code",
   "execution_count": 2,
   "id": "837ebe1c",
   "metadata": {},
   "outputs": [
    {
     "name": "stdout",
     "output_type": "stream",
     "text": [
      "210\n",
      "90\n"
     ]
    }
   ],
   "source": [
    "print(len(train_data))\n",
    "print(len(test_data))"
   ]
  },
  {
   "cell_type": "code",
   "execution_count": 3,
   "id": "3a429690",
   "metadata": {},
   "outputs": [
    {
     "data": {
      "text/plain": [
       "(210, 4)"
      ]
     },
     "execution_count": 3,
     "metadata": {},
     "output_type": "execute_result"
    }
   ],
   "source": [
    "train_data.shape\n"
   ]
  },
  {
   "cell_type": "code",
   "execution_count": 4,
   "id": "9c7c5eac",
   "metadata": {},
   "outputs": [
    {
     "data": {
      "text/plain": [
       "(90, 4)"
      ]
     },
     "execution_count": 4,
     "metadata": {},
     "output_type": "execute_result"
    }
   ],
   "source": [
    "test_data.shape"
   ]
  },
  {
   "cell_type": "code",
   "execution_count": 5,
   "id": "0888ec9c",
   "metadata": {},
   "outputs": [],
   "source": [
    "\n",
    "# Separate features and labels\n",
    "x_train = train_data.iloc[:, :-1].values  # Features: all columns except the last\n",
    "y_train = train_data.iloc[:, -1].values   # Labels: the last column\n",
    "\n",
    "x_test = test_data.iloc[:, :-1].values    # Features: all columns except the last\n",
    "y_test = test_data.iloc[:, -1].values     # Labels: the last column\n",
    "\n",
    "\n"
   ]
  },
  {
   "cell_type": "code",
   "execution_count": 6,
   "id": "8ff5d5d8",
   "metadata": {},
   "outputs": [
    {
     "name": "stdout",
     "output_type": "stream",
     "text": [
      "x_train shape: (210, 3)\n",
      "y_train shape: (210,)\n",
      "x_test shape: (90, 3)\n",
      "y_test shape: (90,)\n"
     ]
    }
   ],
   "source": [
    "print(f\"x_train shape: {x_train.shape}\")\n",
    "print(f\"y_train shape: {y_train.shape}\")\n",
    "print(f\"x_test shape: {x_test.shape}\")\n",
    "print(f\"y_test shape: {y_test.shape}\")\n"
   ]
  },
  {
   "cell_type": "code",
   "execution_count": 7,
   "id": "3e6098b1",
   "metadata": {},
   "outputs": [],
   "source": [
    "from keras.utils.np_utils import to_categorical\n",
    "one_hot_train_labels = to_categorical(y_train)\n",
    "one_hot_test_labels = to_categorical(y_test)"
   ]
  },
  {
   "cell_type": "code",
   "execution_count": 8,
   "id": "197f6b2d",
   "metadata": {},
   "outputs": [
    {
     "name": "stdout",
     "output_type": "stream",
     "text": [
      "y_train shape: (210, 3)\n",
      "y_test shape: (90, 3)\n"
     ]
    }
   ],
   "source": [
    "print(f\"y_train shape: {one_hot_train_labels.shape}\")\n",
    "print(f\"y_test shape: {one_hot_test_labels.shape}\")"
   ]
  },
  {
   "cell_type": "code",
   "execution_count": 9,
   "id": "64e0d15e",
   "metadata": {},
   "outputs": [],
   "source": [
    "from keras import models\n",
    "from keras import layers\n",
    "model = models.Sequential()\n",
    "model.add(layers.Dense(32, activation='relu', input_shape=(3,)))\n",
    "model.add(layers.Dense(32, activation='relu'))\n",
    "model.add(layers.Dense(3, activation='softmax'))"
   ]
  },
  {
   "cell_type": "code",
   "execution_count": 10,
   "id": "5f7358f5",
   "metadata": {},
   "outputs": [],
   "source": [
    "model.compile(optimizer='Adam',\n",
    "loss='categorical_crossentropy',\n",
    "metrics=['accuracy'])"
   ]
  },
  {
   "cell_type": "code",
   "execution_count": 11,
   "id": "7ff1938f",
   "metadata": {},
   "outputs": [],
   "source": [
    "#slicing first 50 and rest of 160 (total210)\n",
    "x_val = x_train[:50]\n",
    "partial_x_train = x_train[50:]\n",
    "y_val = one_hot_train_labels[:50]\n",
    "partial_y_train = one_hot_train_labels[50:]"
   ]
  },
  {
   "cell_type": "code",
   "execution_count": 12,
   "id": "d5755c12",
   "metadata": {},
   "outputs": [
    {
     "name": "stdout",
     "output_type": "stream",
     "text": [
      "Epoch 1/50\n",
      " 1/16 [>.............................] - ETA: 5s - loss: 23.0243 - accuracy: 0.2000\n",
      "Epoch 1: val_loss improved from inf to 2.12215, saving model to Tree_best_model.h5\n",
      "16/16 [==============================] - 1s 16ms/step - loss: 8.3745 - accuracy: 0.3250 - val_loss: 2.1222 - val_accuracy: 0.3200\n",
      "Epoch 2/50\n",
      " 1/16 [>.............................] - ETA: 0s - loss: 2.9753 - accuracy: 0.1000\n",
      "Epoch 2: val_loss improved from 2.12215 to 1.98474, saving model to Tree_best_model.h5\n",
      "16/16 [==============================] - 0s 3ms/step - loss: 2.0005 - accuracy: 0.3000 - val_loss: 1.9847 - val_accuracy: 0.3200\n",
      "Epoch 3/50\n",
      " 1/16 [>.............................] - ETA: 0s - loss: 1.8505 - accuracy: 0.3000\n",
      "Epoch 3: val_loss improved from 1.98474 to 1.28091, saving model to Tree_best_model.h5\n",
      "16/16 [==============================] - 0s 3ms/step - loss: 1.5848 - accuracy: 0.2625 - val_loss: 1.2809 - val_accuracy: 0.3200\n",
      "Epoch 4/50\n",
      " 1/16 [>.............................] - ETA: 0s - loss: 1.0447 - accuracy: 0.4000\n",
      "Epoch 4: val_loss improved from 1.28091 to 0.92645, saving model to Tree_best_model.h5\n",
      "16/16 [==============================] - 0s 3ms/step - loss: 1.2317 - accuracy: 0.3938 - val_loss: 0.9265 - val_accuracy: 0.1200\n",
      "Epoch 5/50\n",
      " 1/16 [>.............................] - ETA: 0s - loss: 0.9995 - accuracy: 0.0000e+00\n",
      "Epoch 5: val_loss improved from 0.92645 to 0.80659, saving model to Tree_best_model.h5\n",
      "16/16 [==============================] - 0s 3ms/step - loss: 0.8616 - accuracy: 0.4875 - val_loss: 0.8066 - val_accuracy: 0.6400\n",
      "Epoch 6/50\n",
      " 1/16 [>.............................] - ETA: 0s - loss: 0.8634 - accuracy: 0.5000\n",
      "Epoch 6: val_loss improved from 0.80659 to 0.71205, saving model to Tree_best_model.h5\n",
      "16/16 [==============================] - 0s 3ms/step - loss: 0.7697 - accuracy: 0.6187 - val_loss: 0.7121 - val_accuracy: 0.6800\n",
      "Epoch 7/50\n",
      " 1/16 [>.............................] - ETA: 0s - loss: 0.6590 - accuracy: 0.7000\n",
      "Epoch 7: val_loss improved from 0.71205 to 0.69113, saving model to Tree_best_model.h5\n",
      "16/16 [==============================] - 0s 4ms/step - loss: 0.7979 - accuracy: 0.6750 - val_loss: 0.6911 - val_accuracy: 0.6800\n",
      "Epoch 8/50\n",
      " 1/16 [>.............................] - ETA: 0s - loss: 0.8596 - accuracy: 0.5000\n",
      "Epoch 8: val_loss did not improve from 0.69113\n",
      "16/16 [==============================] - 0s 2ms/step - loss: 0.6398 - accuracy: 0.7125 - val_loss: 0.7201 - val_accuracy: 0.6800\n",
      "Epoch 9/50\n",
      " 1/16 [>.............................] - ETA: 0s - loss: 0.4091 - accuracy: 0.9000\n",
      "Epoch 9: val_loss improved from 0.69113 to 0.57205, saving model to Tree_best_model.h5\n",
      "16/16 [==============================] - 0s 3ms/step - loss: 0.6876 - accuracy: 0.7312 - val_loss: 0.5720 - val_accuracy: 0.6800\n",
      "Epoch 10/50\n",
      " 1/16 [>.............................] - ETA: 0s - loss: 0.5889 - accuracy: 0.7000\n",
      "Epoch 10: val_loss improved from 0.57205 to 0.50444, saving model to Tree_best_model.h5\n",
      "16/16 [==============================] - 0s 3ms/step - loss: 0.6131 - accuracy: 0.6500 - val_loss: 0.5044 - val_accuracy: 0.9400\n",
      "Epoch 11/50\n",
      " 1/16 [>.............................] - ETA: 0s - loss: 0.4912 - accuracy: 1.0000\n",
      "Epoch 11: val_loss did not improve from 0.50444\n",
      "16/16 [==============================] - 0s 2ms/step - loss: 0.5190 - accuracy: 0.7937 - val_loss: 0.5085 - val_accuracy: 0.6400\n",
      "Epoch 12/50\n",
      " 1/16 [>.............................] - ETA: 0s - loss: 0.4783 - accuracy: 0.7000\n",
      "Epoch 12: val_loss improved from 0.50444 to 0.48068, saving model to Tree_best_model.h5\n",
      "16/16 [==============================] - 0s 3ms/step - loss: 0.4869 - accuracy: 0.7563 - val_loss: 0.4807 - val_accuracy: 0.6800\n",
      "Epoch 13/50\n",
      " 1/16 [>.............................] - ETA: 0s - loss: 0.4474 - accuracy: 0.7000\n",
      "Epoch 13: val_loss did not improve from 0.48068\n",
      "16/16 [==============================] - 0s 2ms/step - loss: 0.5005 - accuracy: 0.7500 - val_loss: 0.5524 - val_accuracy: 0.6400\n",
      "Epoch 14/50\n",
      " 1/16 [>.............................] - ETA: 0s - loss: 0.8012 - accuracy: 0.4000\n",
      "Epoch 14: val_loss did not improve from 0.48068\n",
      "16/16 [==============================] - 0s 2ms/step - loss: 0.4945 - accuracy: 0.7250 - val_loss: 0.4813 - val_accuracy: 0.6800\n",
      "Epoch 15/50\n",
      " 1/16 [>.............................] - ETA: 0s - loss: 0.5496 - accuracy: 0.6000\n",
      "Epoch 15: val_loss improved from 0.48068 to 0.38846, saving model to Tree_best_model.h5\n",
      "16/16 [==============================] - 0s 3ms/step - loss: 0.4195 - accuracy: 0.8375 - val_loss: 0.3885 - val_accuracy: 0.9800\n",
      "Epoch 16/50\n",
      " 1/16 [>.............................] - ETA: 0s - loss: 0.4189 - accuracy: 1.0000\n",
      "Epoch 16: val_loss did not improve from 0.38846\n",
      "16/16 [==============================] - 0s 2ms/step - loss: 0.5019 - accuracy: 0.7375 - val_loss: 0.4182 - val_accuracy: 0.7200\n",
      "Epoch 17/50\n",
      " 1/16 [>.............................] - ETA: 0s - loss: 0.2947 - accuracy: 0.8000\n",
      "Epoch 17: val_loss did not improve from 0.38846\n",
      "16/16 [==============================] - 0s 2ms/step - loss: 0.4212 - accuracy: 0.7812 - val_loss: 0.4045 - val_accuracy: 0.7000\n",
      "Epoch 18/50\n",
      " 1/16 [>.............................] - ETA: 0s - loss: 0.4728 - accuracy: 0.6000Restoring model weights from the end of the best epoch: 15.\n",
      "\n",
      "Epoch 18: val_loss did not improve from 0.38846\n",
      "16/16 [==============================] - 0s 2ms/step - loss: 0.4126 - accuracy: 0.7500 - val_loss: 0.4255 - val_accuracy: 0.6600\n",
      "Epoch 18: early stopping\n"
     ]
    }
   ],
   "source": [
    "from keras.callbacks import EarlyStopping, ModelCheckpoint\n",
    "\n",
    "# Define the early stopping and model checkpoint callbacks\n",
    "early_stopping = EarlyStopping(monitor='val_loss',\n",
    "                               patience=3,# we see next 3 consectutive valuein learningcurve to see the behavior --Asnaff\n",
    "                               verbose=1,\n",
    "                               restore_best_weights=True)\n",
    "\n",
    "#checkpoint to save .h5 file(export model) --Asnaff\n",
    "model_checkpoint = ModelCheckpoint(filepath='Tree_best_model.h5',\n",
    "                                   monitor='val_loss',\n",
    "                                   save_best_only=True,\n",
    "                                   verbose=1)\n",
    "\n",
    "history = model.fit(partial_x_train,\n",
    "                    partial_y_train,\n",
    "                    epochs=50,\n",
    "                    batch_size=10,\n",
    "                    validation_data=(x_val, y_val),\n",
    "                    callbacks=[early_stopping, model_checkpoint])"
   ]
  },
  {
   "cell_type": "code",
   "execution_count": 13,
   "id": "b5858131",
   "metadata": {},
   "outputs": [
    {
     "data": {
      "image/png": "[encoded data removed]",
      "text/plain": [
       "<Figure size 640x480 with 1 Axes>"
      ]
     },
     "metadata": {},
     "output_type": "display_data"
    }
   ],
   "source": [
    "import matplotlib.pyplot as plt\n",
    "loss = history.history['loss']\n",
    "val_loss = history.history['val_loss']\n",
    "epochs = range(1, len(loss) + 1)\n",
    "plt.plot(epochs, loss, 'r', label='Training loss')\n",
    "plt.plot(epochs, val_loss, 'b', label='Validation loss')\n",
    "plt.title('Training and validation loss')\n",
    "plt.xlabel('Epochs')\n",
    "plt.ylabel('Loss')\n",
    "plt.legend()\n",
    "plt.show()"
   ]
  },
  {
   "cell_type": "code",
   "execution_count": 14,
   "id": "06531e31",
   "metadata": {},
   "outputs": [
    {
     "data": {
      "image/png": "[encoded data removed]",
      "text/plain": [
       "<Figure size 640x480 with 1 Axes>"
      ]
     },
     "metadata": {},
     "output_type": "display_data"
    }
   ],
   "source": [
    "plt.clf()\n",
    "acc = history.history['accuracy']\n",
    "val_acc = history.history['val_accuracy']\n",
    "plt.plot(epochs, acc, 'r', label='Training acc')\n",
    "plt.plot(epochs, val_acc, 'b', label='Validation acc')\n",
    "plt.title('Training and validation accuracy')\n",
    "plt.xlabel('Epochs')\n",
    "plt.ylabel('Loss')\n",
    "plt.legend()\n",
    "plt.show()"
   ]
  },
  {
   "cell_type": "code",
   "execution_count": 15,
   "id": "9bfc0fd0",
   "metadata": {},
   "outputs": [
    {
     "name": "stdout",
     "output_type": "stream",
     "text": [
      "3/3 [==============================] - 0s 1ms/step - loss: 0.3836 - accuracy: 0.9889\n"
     ]
    }
   ],
   "source": [
    "results = model.evaluate(x_test, one_hot_test_labels)"
   ]
  },
  {
   "cell_type": "code",
   "execution_count": 16,
   "id": "db9759f3",
   "metadata": {},
   "outputs": [
    {
     "data": {
      "text/plain": [
       "[0.383554071187973, 0.9888888597488403]"
      ]
     },
     "execution_count": 16,
     "metadata": {},
     "output_type": "execute_result"
    }
   ],
   "source": [
    "results"
   ]
  },
  {
   "cell_type": "code",
   "execution_count": 17,
   "id": "a453d56a",
   "metadata": {},
   "outputs": [
    {
     "name": "stdout",
     "output_type": "stream",
     "text": [
      "3/3 [==============================] - 0s 754us/step\n"
     ]
    },
    {
     "data": {
      "text/plain": [
       "(90, 3)"
      ]
     },
     "execution_count": 17,
     "metadata": {},
     "output_type": "execute_result"
    }
   ],
   "source": [
    "predictions = model.predict(x_test)\n",
    "predictions.shape"
   ]
  },
  {
   "cell_type": "code",
   "execution_count": 18,
   "id": "757d5cdb",
   "metadata": {},
   "outputs": [
    {
     "data": {
      "text/plain": [
       "0.9999999"
      ]
     },
     "execution_count": 18,
     "metadata": {},
     "output_type": "execute_result"
    }
   ],
   "source": [
    "import numpy as np\n",
    "np.sum(predictions[77])"
   ]
  },
  {
   "cell_type": "code",
   "execution_count": 19,
   "id": "fa3f2d36",
   "metadata": {},
   "outputs": [
    {
     "data": {
      "text/plain": [
       "1"
      ]
     },
     "execution_count": 19,
     "metadata": {},
     "output_type": "execute_result"
    }
   ],
   "source": [
    "np.argmax(predictions[10])"
   ]
  },
  {
   "cell_type": "code",
   "execution_count": 20,
   "id": "f4e864b6",
   "metadata": {},
   "outputs": [
    {
     "name": "stdout",
     "output_type": "stream",
     "text": [
      "1/1 [==============================] - 0s 13ms/step\n"
     ]
    },
    {
     "data": {
      "text/plain": [
       "(10, 3)"
      ]
     },
     "execution_count": 20,
     "metadata": {},
     "output_type": "execute_result"
    }
   ],
   "source": [
    "prediction1=model.predict(x_test[:10])\n",
    "prediction1.shape"
   ]
  },
  {
   "cell_type": "code",
   "execution_count": 21,
   "id": "0cfc970d",
   "metadata": {},
   "outputs": [],
   "source": [
    "\n",
    "# Define class names (assuming you have a mapping or know the class names)\n",
    "class_names = ['Millettia Pinnata (Pongamia/Indian Beech)_Ahlaq', 'Bougainvillea glabra_Poornima', 'Ficus benjamina L._Asnaff']  # Adjust according to your dataset\n",
    "\n"
   ]
  },
  {
   "cell_type": "code",
   "execution_count": 22,
   "id": "5dab3489",
   "metadata": {},
   "outputs": [
    {
     "name": "stdout",
     "output_type": "stream",
     "text": [
      "Sample 1: Max Probability = 0.8933, Class Label = 2, Species Name = Ficus benjamina L._Asnaff\n",
      "Sample 2: Max Probability = 0.5868, Class Label = 1, Species Name = Bougainvillea glabra_Poornima\n",
      "Sample 3: Max Probability = 0.8920, Class Label = 2, Species Name = Ficus benjamina L._Asnaff\n",
      "Sample 4: Max Probability = 0.6882, Class Label = 0, Species Name = Millettia Pinnata (Pongamia/Indian Beech)_Ahlaq\n",
      "Sample 5: Max Probability = 0.5903, Class Label = 1, Species Name = Bougainvillea glabra_Poornima\n",
      "Sample 6: Max Probability = 0.6038, Class Label = 1, Species Name = Bougainvillea glabra_Poornima\n",
      "Sample 7: Max Probability = 0.9131, Class Label = 2, Species Name = Ficus benjamina L._Asnaff\n",
      "Sample 8: Max Probability = 0.6416, Class Label = 0, Species Name = Millettia Pinnata (Pongamia/Indian Beech)_Ahlaq\n",
      "Sample 9: Max Probability = 0.5110, Class Label = 1, Species Name = Bougainvillea glabra_Poornima\n",
      "Sample 10: Max Probability = 0.8748, Class Label = 2, Species Name = Ficus benjamina L._Asnaff\n"
     ]
    }
   ],
   "source": [
    "\n",
    "# Print the predicted class, probability, and class name for each of the first 10 samples\n",
    "for i, prediction in enumerate(prediction1):\n",
    "    class_index = np.argmax(prediction)  # Find the index of the max probability\n",
    "    max_probability = np.max(prediction)  # Find the max probability value\n",
    "    class_label = class_index # Adjust class index if labels are 1-based\n",
    "    class_name = class_names[class_index]  # Get the class name using the index\n",
    "    print(f\"Sample {i+1}: Max Probability = {max_probability:.4f}, Class Label = {class_label}, Species Name = {class_name}\")\n"
   ]
  },
  {
   "cell_type": "code",
   "execution_count": null,
   "id": "6200de2d",
   "metadata": {},
   "outputs": [],
   "source": []
  }
 ],
 "metadata": {
  "kernelspec": {
   "display_name": "Python 3 (ipykernel)",
   "language": "python",
   "name": "python3"
  },
  "language_info": {
   "codemirror_mode": {
    "name": "ipython",
    "version": 3
   },
   "file_extension": ".py",
   "mimetype": "text/x-python",
   "name": "python",
   "nbconvert_exporter": "python",
   "pygments_lexer": "ipython3",
   "version": "3.7.16"
  }
 },
 "nbformat": 4,
 "nbformat_minor": 5
}
