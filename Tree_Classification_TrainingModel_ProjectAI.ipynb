{
 "cells": [
  {
   "cell_type": "code",
   "execution_count": 1,
   "id": "ad8d3aeb",
   "metadata": {},
   "outputs": [],
   "source": [
    "import pandas as pd\n",
    "\n",
    "train_data = pd.read_csv('projectAI_train.csv')\n",
    "test_data = pd.read_csv('projectAI_test.csv')"
   ]
  },
  {
   "cell_type": "code",
   "execution_count": 4,
   "id": "9983e0aa",
   "metadata": {},
   "outputs": [
    {
     "name": "stdout",
     "output_type": "stream",
     "text": [
      "210\n",
      "90\n"
     ]
    }
   ],
   "source": [
    "print(len(train_data))\n",
    "print(len(test_data))"
   ]
  },
  {
   "cell_type": "code",
   "execution_count": 5,
   "id": "4f41703c",
   "metadata": {},
   "outputs": [
    {
     "data": {
      "text/plain": [
       "(210, 4)"
      ]
     },
     "execution_count": 5,
     "metadata": {},
     "output_type": "execute_result"
    }
   ],
   "source": [
    "train_data.shape\n"
   ]
  },
  {
   "cell_type": "code",
   "execution_count": 6,
   "id": "3c8eb83b",
   "metadata": {},
   "outputs": [
    {
     "data": {
      "text/plain": [
       "(90, 4)"
      ]
     },
     "execution_count": 6,
     "metadata": {},
     "output_type": "execute_result"
    }
   ],
   "source": [
    "test_data.shape"
   ]
  },
  {
   "cell_type": "code",
   "execution_count": 7,
   "id": "9ca99f2e",
   "metadata": {},
   "outputs": [],
   "source": [
    "\n",
    "# Separate features and labels\n",
    "x_train = train_data.iloc[:, :-1].values  # Features: all columns except the last\n",
    "y_train = train_data.iloc[:, -1].values   # Labels: the last column\n",
    "\n",
    "x_test = test_data.iloc[:, :-1].values    # Features: all columns except the last\n",
    "y_test = test_data.iloc[:, -1].values     # Labels: the last column\n",
    "\n",
    "\n"
   ]
  },
  {
   "cell_type": "code",
   "execution_count": 8,
   "id": "170cf638",
   "metadata": {},
   "outputs": [
    {
     "name": "stdout",
     "output_type": "stream",
     "text": [
      "x_train shape: (210, 3)\n",
      "y_train shape: (210,)\n",
      "x_test shape: (90, 3)\n",
      "y_test shape: (90,)\n"
     ]
    }
   ],
   "source": [
    "print(f\"x_train shape: {x_train.shape}\")\n",
    "print(f\"y_train shape: {y_train.shape}\")\n",
    "print(f\"x_test shape: {x_test.shape}\")\n",
    "print(f\"y_test shape: {y_test.shape}\")\n"
   ]
  },
  {
   "cell_type": "code",
   "execution_count": 9,
   "id": "61a89043",
   "metadata": {},
   "outputs": [],
   "source": [
    "from keras.utils.np_utils import to_categorical\n",
    "one_hot_train_labels = to_categorical(y_train)\n",
    "one_hot_test_labels = to_categorical(y_test)"
   ]
  },
  {
   "cell_type": "code",
   "execution_count": 10,
   "id": "e244f0eb",
   "metadata": {},
   "outputs": [
    {
     "name": "stdout",
     "output_type": "stream",
     "text": [
      "y_train shape: (210, 3)\n",
      "y_test shape: (90, 3)\n"
     ]
    }
   ],
   "source": [
    "print(f\"y_train shape: {one_hot_train_labels.shape}\")\n",
    "print(f\"y_test shape: {one_hot_test_labels.shape}\")"
   ]
  },
  {
   "cell_type": "code",
   "execution_count": 11,
   "id": "831a338e",
   "metadata": {},
   "outputs": [],
   "source": [
    "from keras import models\n",
    "from keras import layers\n",
    "model = models.Sequential()\n",
    "model.add(layers.Dense(32, activation='relu', input_shape=(3,)))\n",
    "model.add(layers.Dense(32, activation='relu'))\n",
    "model.add(layers.Dense(3, activation='softmax'))"
   ]
  },
  {
   "cell_type": "code",
   "execution_count": 12,
   "id": "afb6d7cc",
   "metadata": {},
   "outputs": [],
   "source": [
    "model.compile(optimizer='Adam',\n",
    "loss='categorical_crossentropy',\n",
    "metrics=['accuracy'])"
   ]
  },
  {
   "cell_type": "code",
   "execution_count": 13,
   "id": "efbecbea",
   "metadata": {},
   "outputs": [],
   "source": [
    "#slicing first 50 and rest of 160 (total210)\n",
    "x_val = x_train[:50]\n",
    "partial_x_train = x_train[50:]\n",
    "y_val = one_hot_train_labels[:50]\n",
    "partial_y_train = one_hot_train_labels[50:]"
   ]
  },
  {
   "cell_type": "code",
   "execution_count": 14,
   "id": "700931d4",
   "metadata": {},
   "outputs": [
    {
     "name": "stdout",
     "output_type": "stream",
     "text": [
      "Epoch 1/50\n",
      " 1/16 [>.............................] - ETA: 16s - loss: 6.9134 - accuracy: 0.2000\n",
      "Epoch 1: val_loss improved from inf to 2.14798, saving model to Tree_best_model.h5\n",
      "16/16 [==============================] - 2s 37ms/step - loss: 3.1953 - accuracy: 0.3125 - val_loss: 2.1480 - val_accuracy: 0.3200\n",
      "Epoch 2/50\n",
      " 1/16 [>.............................] - ETA: 0s - loss: 1.9502 - accuracy: 0.4000\n",
      "Epoch 2: val_loss improved from 2.14798 to 1.20227, saving model to Tree_best_model.h5\n",
      "16/16 [==============================] - 0s 10ms/step - loss: 1.5343 - accuracy: 0.2688 - val_loss: 1.2023 - val_accuracy: 0.3600\n",
      "Epoch 3/50\n",
      " 1/16 [>.............................] - ETA: 0s - loss: 1.3155 - accuracy: 0.3000\n",
      "Epoch 3: val_loss improved from 1.20227 to 0.98159, saving model to Tree_best_model.h5\n",
      "16/16 [==============================] - 0s 9ms/step - loss: 1.1108 - accuracy: 0.1375 - val_loss: 0.9816 - val_accuracy: 0.0000e+00\n",
      "Epoch 4/50\n",
      " 1/16 [>.............................] - ETA: 0s - loss: 0.9109 - accuracy: 0.0000e+00\n",
      "Epoch 4: val_loss improved from 0.98159 to 0.92098, saving model to Tree_best_model.h5\n",
      "16/16 [==============================] - 0s 9ms/step - loss: 0.9721 - accuracy: 0.4125 - val_loss: 0.9210 - val_accuracy: 0.6000\n",
      "Epoch 5/50\n",
      " 1/16 [>.............................] - ETA: 0s - loss: 0.9358 - accuracy: 0.7000\n",
      "Epoch 5: val_loss improved from 0.92098 to 0.81526, saving model to Tree_best_model.h5\n",
      "16/16 [==============================] - 0s 9ms/step - loss: 0.8800 - accuracy: 0.5813 - val_loss: 0.8153 - val_accuracy: 0.6800\n",
      "Epoch 6/50\n",
      " 1/16 [>.............................] - ETA: 0s - loss: 0.7716 - accuracy: 0.7000\n",
      "Epoch 6: val_loss improved from 0.81526 to 0.71482, saving model to Tree_best_model.h5\n",
      "16/16 [==============================] - 0s 10ms/step - loss: 0.7890 - accuracy: 0.6000 - val_loss: 0.7148 - val_accuracy: 0.7000\n",
      "Epoch 7/50\n",
      " 1/16 [>.............................] - ETA: 0s - loss: 0.7135 - accuracy: 0.7000\n",
      "Epoch 7: val_loss improved from 0.71482 to 0.65164, saving model to Tree_best_model.h5\n",
      "16/16 [==============================] - 0s 9ms/step - loss: 0.7158 - accuracy: 0.6875 - val_loss: 0.6516 - val_accuracy: 0.6800\n",
      "Epoch 8/50\n",
      " 1/16 [>.............................] - ETA: 0s - loss: 0.6873 - accuracy: 0.6000\n",
      "Epoch 8: val_loss improved from 0.65164 to 0.60088, saving model to Tree_best_model.h5\n",
      "16/16 [==============================] - 0s 10ms/step - loss: 0.6437 - accuracy: 0.7312 - val_loss: 0.6009 - val_accuracy: 0.9400\n",
      "Epoch 9/50\n",
      " 1/16 [>.............................] - ETA: 0s - loss: 0.5885 - accuracy: 1.0000\n",
      "Epoch 9: val_loss did not improve from 0.60088\n",
      "16/16 [==============================] - 0s 6ms/step - loss: 0.5834 - accuracy: 0.8062 - val_loss: 0.7198 - val_accuracy: 0.6800\n",
      "Epoch 10/50\n",
      " 1/16 [>.............................] - ETA: 0s - loss: 0.8585 - accuracy: 0.6000\n",
      "Epoch 10: val_loss improved from 0.60088 to 0.57903, saving model to Tree_best_model.h5\n",
      "16/16 [==============================] - 0s 11ms/step - loss: 0.6706 - accuracy: 0.6750 - val_loss: 0.5790 - val_accuracy: 0.6800\n",
      "Epoch 11/50\n",
      " 1/16 [>.............................] - ETA: 0s - loss: 0.4580 - accuracy: 0.8000\n",
      "Epoch 11: val_loss improved from 0.57903 to 0.49869, saving model to Tree_best_model.h5\n",
      "16/16 [==============================] - 0s 9ms/step - loss: 0.6999 - accuracy: 0.6875 - val_loss: 0.4987 - val_accuracy: 0.7200\n",
      "Epoch 12/50\n",
      " 1/16 [>.............................] - ETA: 0s - loss: 0.4851 - accuracy: 0.7000\n",
      "Epoch 12: val_loss improved from 0.49869 to 0.48670, saving model to Tree_best_model.h5\n",
      "16/16 [==============================] - 0s 12ms/step - loss: 0.5484 - accuracy: 0.7625 - val_loss: 0.4867 - val_accuracy: 0.8200\n",
      "Epoch 13/50\n",
      " 1/16 [>.............................] - ETA: 0s - loss: 0.4090 - accuracy: 0.9000\n",
      "Epoch 13: val_loss improved from 0.48670 to 0.47965, saving model to Tree_best_model.h5\n",
      "16/16 [==============================] - 0s 10ms/step - loss: 0.4649 - accuracy: 0.8687 - val_loss: 0.4797 - val_accuracy: 0.7000\n",
      "Epoch 14/50\n",
      " 1/16 [>.............................] - ETA: 0s - loss: 0.4647 - accuracy: 0.7000\n",
      "Epoch 14: val_loss improved from 0.47965 to 0.43341, saving model to Tree_best_model.h5\n",
      "16/16 [==============================] - 0s 10ms/step - loss: 0.4870 - accuracy: 0.7312 - val_loss: 0.4334 - val_accuracy: 0.7600\n",
      "Epoch 15/50\n",
      " 1/16 [>.............................] - ETA: 0s - loss: 0.3667 - accuracy: 0.8000\n",
      "Epoch 15: val_loss did not improve from 0.43341\n",
      "16/16 [==============================] - 0s 6ms/step - loss: 0.5517 - accuracy: 0.7063 - val_loss: 0.4380 - val_accuracy: 0.7600\n",
      "Epoch 16/50\n",
      " 1/16 [>.............................] - ETA: 0s - loss: 0.3285 - accuracy: 0.9000\n",
      "Epoch 16: val_loss improved from 0.43341 to 0.37987, saving model to Tree_best_model.h5\n",
      "16/16 [==============================] - 0s 10ms/step - loss: 0.4728 - accuracy: 0.7437 - val_loss: 0.3799 - val_accuracy: 1.0000\n",
      "Epoch 17/50\n",
      " 1/16 [>.............................] - ETA: 0s - loss: 0.3568 - accuracy: 1.0000\n",
      "Epoch 17: val_loss improved from 0.37987 to 0.36512, saving model to Tree_best_model.h5\n",
      "16/16 [==============================] - 0s 10ms/step - loss: 0.3933 - accuracy: 0.9500 - val_loss: 0.3651 - val_accuracy: 0.9000\n",
      "Epoch 18/50\n",
      " 1/16 [>.............................] - ETA: 0s - loss: 0.2568 - accuracy: 1.0000\n",
      "Epoch 18: val_loss did not improve from 0.36512\n",
      "16/16 [==============================] - 0s 6ms/step - loss: 0.3957 - accuracy: 0.8000 - val_loss: 0.4385 - val_accuracy: 0.7200\n",
      "Epoch 19/50\n",
      " 1/16 [>.............................] - ETA: 0s - loss: 0.3916 - accuracy: 0.8000\n",
      "Epoch 19: val_loss improved from 0.36512 to 0.32540, saving model to Tree_best_model.h5\n",
      "16/16 [==============================] - 0s 10ms/step - loss: 0.3994 - accuracy: 0.8375 - val_loss: 0.3254 - val_accuracy: 0.9200\n",
      "Epoch 20/50\n",
      " 1/16 [>.............................] - ETA: 0s - loss: 0.3203 - accuracy: 0.9000\n",
      "Epoch 20: val_loss improved from 0.32540 to 0.31841, saving model to Tree_best_model.h5\n",
      "16/16 [==============================] - 0s 9ms/step - loss: 0.3626 - accuracy: 0.9000 - val_loss: 0.3184 - val_accuracy: 0.9200\n",
      "Epoch 21/50\n",
      " 1/16 [>.............................] - ETA: 0s - loss: 0.3300 - accuracy: 0.9000\n",
      "Epoch 21: val_loss improved from 0.31841 to 0.29890, saving model to Tree_best_model.h5\n",
      "16/16 [==============================] - 0s 10ms/step - loss: 0.3214 - accuracy: 0.9625 - val_loss: 0.2989 - val_accuracy: 0.9200\n",
      "Epoch 22/50\n",
      " 1/16 [>.............................] - ETA: 0s - loss: 0.2854 - accuracy: 0.9000\n",
      "Epoch 22: val_loss did not improve from 0.29890\n",
      "16/16 [==============================] - 0s 6ms/step - loss: 0.3040 - accuracy: 0.9438 - val_loss: 0.3211 - val_accuracy: 0.9400\n",
      "Epoch 23/50\n",
      " 1/16 [>.............................] - ETA: 0s - loss: 0.3894 - accuracy: 0.9000\n",
      "Epoch 23: val_loss improved from 0.29890 to 0.29839, saving model to Tree_best_model.h5\n",
      "16/16 [==============================] - 0s 10ms/step - loss: 0.3192 - accuracy: 0.8625 - val_loss: 0.2984 - val_accuracy: 0.9400\n",
      "Epoch 24/50\n",
      " 1/16 [>.............................] - ETA: 0s - loss: 0.3164 - accuracy: 0.9000\n",
      "Epoch 24: val_loss improved from 0.29839 to 0.25691, saving model to Tree_best_model.h5\n",
      "16/16 [==============================] - 0s 9ms/step - loss: 0.3413 - accuracy: 0.8938 - val_loss: 0.2569 - val_accuracy: 0.9400\n",
      "Epoch 25/50\n",
      " 1/16 [>.............................] - ETA: 0s - loss: 0.1768 - accuracy: 1.0000\n",
      "Epoch 25: val_loss improved from 0.25691 to 0.24648, saving model to Tree_best_model.h5\n",
      "16/16 [==============================] - 0s 8ms/step - loss: 0.2708 - accuracy: 0.9563 - val_loss: 0.2465 - val_accuracy: 0.9400\n",
      "Epoch 26/50\n",
      " 1/16 [>.............................] - ETA: 0s - loss: 0.2345 - accuracy: 0.9000\n",
      "Epoch 26: val_loss did not improve from 0.24648\n",
      "16/16 [==============================] - 0s 5ms/step - loss: 0.2547 - accuracy: 0.9625 - val_loss: 0.2487 - val_accuracy: 0.9600\n",
      "Epoch 27/50\n",
      " 1/16 [>.............................] - ETA: 0s - loss: 0.2813 - accuracy: 0.9000\n",
      "Epoch 27: val_loss improved from 0.24648 to 0.22408, saving model to Tree_best_model.h5\n",
      "16/16 [==============================] - 0s 9ms/step - loss: 0.2502 - accuracy: 0.9750 - val_loss: 0.2241 - val_accuracy: 1.0000\n"
     ]
    },
    {
     "name": "stdout",
     "output_type": "stream",
     "text": [
      "Epoch 28/50\n",
      " 1/16 [>.............................] - ETA: 0s - loss: 0.1617 - accuracy: 1.0000\n",
      "Epoch 28: val_loss improved from 0.22408 to 0.21268, saving model to Tree_best_model.h5\n",
      "16/16 [==============================] - 0s 9ms/step - loss: 0.2458 - accuracy: 0.9375 - val_loss: 0.2127 - val_accuracy: 0.9800\n",
      "Epoch 29/50\n",
      " 1/16 [>.............................] - ETA: 0s - loss: 0.1708 - accuracy: 1.0000\n",
      "Epoch 29: val_loss did not improve from 0.21268\n",
      "16/16 [==============================] - 0s 5ms/step - loss: 0.2401 - accuracy: 0.9625 - val_loss: 0.2594 - val_accuracy: 0.9400\n",
      "Epoch 30/50\n",
      " 1/16 [>.............................] - ETA: 0s - loss: 0.2090 - accuracy: 1.0000\n",
      "Epoch 30: val_loss improved from 0.21268 to 0.19882, saving model to Tree_best_model.h5\n",
      "16/16 [==============================] - 0s 8ms/step - loss: 0.2204 - accuracy: 0.9563 - val_loss: 0.1988 - val_accuracy: 0.9400\n",
      "Epoch 31/50\n",
      " 1/16 [>.............................] - ETA: 0s - loss: 0.3296 - accuracy: 0.9000\n",
      "Epoch 31: val_loss improved from 0.19882 to 0.19154, saving model to Tree_best_model.h5\n",
      "16/16 [==============================] - 0s 8ms/step - loss: 0.2143 - accuracy: 0.9688 - val_loss: 0.1915 - val_accuracy: 1.0000\n",
      "Epoch 32/50\n",
      " 1/16 [>.............................] - ETA: 0s - loss: 0.1715 - accuracy: 1.0000\n",
      "Epoch 32: val_loss did not improve from 0.19154\n",
      "16/16 [==============================] - 0s 5ms/step - loss: 0.2080 - accuracy: 0.9500 - val_loss: 0.2757 - val_accuracy: 0.9000\n",
      "Epoch 33/50\n",
      " 1/16 [>.............................] - ETA: 0s - loss: 0.4559 - accuracy: 0.7000\n",
      "Epoch 33: val_loss improved from 0.19154 to 0.19112, saving model to Tree_best_model.h5\n",
      "16/16 [==============================] - 0s 8ms/step - loss: 0.2144 - accuracy: 0.9438 - val_loss: 0.1911 - val_accuracy: 0.9600\n",
      "Epoch 34/50\n",
      " 1/16 [>.............................] - ETA: 0s - loss: 0.2017 - accuracy: 1.0000\n",
      "Epoch 34: val_loss improved from 0.19112 to 0.18728, saving model to Tree_best_model.h5\n",
      "16/16 [==============================] - 0s 10ms/step - loss: 0.2016 - accuracy: 0.9312 - val_loss: 0.1873 - val_accuracy: 0.9600\n",
      "Epoch 35/50\n",
      " 1/16 [>.............................] - ETA: 0s - loss: 0.2099 - accuracy: 0.9000\n",
      "Epoch 35: val_loss improved from 0.18728 to 0.17976, saving model to Tree_best_model.h5\n",
      "16/16 [==============================] - 0s 9ms/step - loss: 0.2006 - accuracy: 0.9438 - val_loss: 0.1798 - val_accuracy: 0.9400\n",
      "Epoch 36/50\n",
      " 1/16 [>.............................] - ETA: 0s - loss: 0.1418 - accuracy: 1.0000\n",
      "Epoch 36: val_loss improved from 0.17976 to 0.16582, saving model to Tree_best_model.h5\n",
      "16/16 [==============================] - 0s 10ms/step - loss: 0.1915 - accuracy: 0.9375 - val_loss: 0.1658 - val_accuracy: 0.9400\n",
      "Epoch 37/50\n",
      " 1/16 [>.............................] - ETA: 0s - loss: 0.1892 - accuracy: 1.0000\n",
      "Epoch 37: val_loss improved from 0.16582 to 0.16293, saving model to Tree_best_model.h5\n",
      "16/16 [==============================] - 0s 9ms/step - loss: 0.1732 - accuracy: 0.9688 - val_loss: 0.1629 - val_accuracy: 0.9400\n",
      "Epoch 38/50\n",
      " 1/16 [>.............................] - ETA: 0s - loss: 0.2385 - accuracy: 0.9000\n",
      "Epoch 38: val_loss improved from 0.16293 to 0.14538, saving model to Tree_best_model.h5\n",
      "16/16 [==============================] - 0s 9ms/step - loss: 0.1793 - accuracy: 0.9312 - val_loss: 0.1454 - val_accuracy: 1.0000\n",
      "Epoch 39/50\n",
      " 1/16 [>.............................] - ETA: 0s - loss: 0.2006 - accuracy: 1.0000\n",
      "Epoch 39: val_loss improved from 0.14538 to 0.13964, saving model to Tree_best_model.h5\n",
      "16/16 [==============================] - 0s 10ms/step - loss: 0.1611 - accuracy: 0.9875 - val_loss: 0.1396 - val_accuracy: 0.9800\n",
      "Epoch 40/50\n",
      " 1/16 [>.............................] - ETA: 0s - loss: 0.1001 - accuracy: 1.0000\n",
      "Epoch 40: val_loss improved from 0.13964 to 0.13496, saving model to Tree_best_model.h5\n",
      "16/16 [==============================] - 0s 9ms/step - loss: 0.1554 - accuracy: 0.9750 - val_loss: 0.1350 - val_accuracy: 0.9800\n",
      "Epoch 41/50\n",
      " 1/16 [>.............................] - ETA: 0s - loss: 0.2035 - accuracy: 0.9000\n",
      "Epoch 41: val_loss did not improve from 0.13496\n",
      "16/16 [==============================] - 0s 5ms/step - loss: 0.1416 - accuracy: 0.9875 - val_loss: 0.1513 - val_accuracy: 0.9600\n",
      "Epoch 42/50\n",
      " 1/16 [>.............................] - ETA: 0s - loss: 0.1873 - accuracy: 0.9000\n",
      "Epoch 42: val_loss did not improve from 0.13496\n",
      "16/16 [==============================] - 0s 5ms/step - loss: 0.1544 - accuracy: 0.9500 - val_loss: 0.1686 - val_accuracy: 0.9400\n",
      "Epoch 43/50\n",
      " 1/16 [>.............................] - ETA: 0s - loss: 0.1627 - accuracy: 0.9000\n",
      "Epoch 43: val_loss improved from 0.13496 to 0.12661, saving model to Tree_best_model.h5\n",
      "16/16 [==============================] - 0s 10ms/step - loss: 0.1457 - accuracy: 0.9812 - val_loss: 0.1266 - val_accuracy: 0.9600\n",
      "Epoch 44/50\n",
      " 1/16 [>.............................] - ETA: 0s - loss: 0.1422 - accuracy: 0.9000\n",
      "Epoch 44: val_loss improved from 0.12661 to 0.12243, saving model to Tree_best_model.h5\n",
      "16/16 [==============================] - 0s 10ms/step - loss: 0.1467 - accuracy: 0.9688 - val_loss: 0.1224 - val_accuracy: 0.9600\n",
      "Epoch 45/50\n",
      " 1/16 [>.............................] - ETA: 0s - loss: 0.1447 - accuracy: 1.0000\n",
      "Epoch 45: val_loss improved from 0.12243 to 0.11539, saving model to Tree_best_model.h5\n",
      "16/16 [==============================] - 0s 10ms/step - loss: 0.1536 - accuracy: 0.9688 - val_loss: 0.1154 - val_accuracy: 0.9800\n",
      "Epoch 46/50\n",
      " 1/16 [>.............................] - ETA: 0s - loss: 0.1071 - accuracy: 1.0000\n",
      "Epoch 46: val_loss did not improve from 0.11539\n",
      "16/16 [==============================] - 0s 6ms/step - loss: 0.1283 - accuracy: 0.9875 - val_loss: 0.1164 - val_accuracy: 1.0000\n",
      "Epoch 47/50\n",
      " 1/16 [>.............................] - ETA: 0s - loss: 0.1123 - accuracy: 1.0000\n",
      "Epoch 47: val_loss did not improve from 0.11539\n",
      "16/16 [==============================] - 0s 6ms/step - loss: 0.1203 - accuracy: 0.9875 - val_loss: 0.1320 - val_accuracy: 0.9400\n",
      "Epoch 48/50\n",
      " 1/16 [>.............................] - ETA: 0s - loss: 0.2243 - accuracy: 0.9000\n",
      "Epoch 48: val_loss improved from 0.11539 to 0.11048, saving model to Tree_best_model.h5\n",
      "16/16 [==============================] - 0s 10ms/step - loss: 0.1213 - accuracy: 0.9812 - val_loss: 0.1105 - val_accuracy: 0.9600\n",
      "Epoch 49/50\n",
      " 1/16 [>.............................] - ETA: 0s - loss: 0.0604 - accuracy: 1.0000\n",
      "Epoch 49: val_loss improved from 0.11048 to 0.10343, saving model to Tree_best_model.h5\n",
      "16/16 [==============================] - 0s 10ms/step - loss: 0.1205 - accuracy: 0.9750 - val_loss: 0.1034 - val_accuracy: 0.9800\n",
      "Epoch 50/50\n",
      " 1/16 [>.............................] - ETA: 0s - loss: 0.0762 - accuracy: 1.0000\n",
      "Epoch 50: val_loss did not improve from 0.10343\n",
      "16/16 [==============================] - 0s 6ms/step - loss: 0.1228 - accuracy: 0.9812 - val_loss: 0.1062 - val_accuracy: 1.0000\n"
     ]
    }
   ],
   "source": [
    "from keras.callbacks import EarlyStopping, ModelCheckpoint\n",
    "\n",
    "# Define the early stopping and model checkpoint callbacks\n",
    "early_stopping = EarlyStopping(monitor='val_loss',\n",
    "                               patience=3,# we see next 3 consectutive valuein learningcurve to see the behavior --Asnaff\n",
    "                               verbose=1,\n",
    "                               restore_best_weights=True)\n",
    "\n",
    "#checkpoint to save .h5 file(export model) --Asnaff\n",
    "model_checkpoint = ModelCheckpoint(filepath='Tree_best_model.h5',\n",
    "                                   monitor='val_loss',\n",
    "                                   save_best_only=True,\n",
    "                                   verbose=1)\n",
    "\n",
    "history = model.fit(partial_x_train,\n",
    "                    partial_y_train,\n",
    "                    epochs=50,\n",
    "                    batch_size=10,\n",
    "                    validation_data=(x_val, y_val),\n",
    "                    callbacks=[early_stopping, model_checkpoint])"
   ]
  },
  {
   "cell_type": "code",
   "execution_count": 15,
   "id": "47e32694",
   "metadata": {},
   "outputs": [
    {
     "data": {
      "image/png": "[encoded data removed]",
      "text/plain": [
       "<Figure size 640x480 with 1 Axes>"
      ]
     },
     "metadata": {},
     "output_type": "display_data"
    }
   ],
   "source": [
    "import matplotlib.pyplot as plt\n",
    "loss = history.history['loss']\n",
    "val_loss = history.history['val_loss']\n",
    "epochs = range(1, len(loss) + 1)\n",
    "plt.plot(epochs, loss, 'r', label='Training loss')\n",
    "plt.plot(epochs, val_loss, 'b', label='Validation loss')\n",
    "plt.title('Training and validation loss')\n",
    "plt.xlabel('Epochs')\n",
    "plt.ylabel('Loss')\n",
    "plt.legend()\n",
    "plt.show()"
   ]
  },
  {
   "cell_type": "code",
   "execution_count": 16,
   "id": "f77ce470",
   "metadata": {},
   "outputs": [
    {
     "data": {
      "image/png": "[encoded data removed]",
      "text/plain": [
       "<Figure size 640x480 with 1 Axes>"
      ]
     },
     "metadata": {},
     "output_type": "display_data"
    }
   ],
   "source": [
    "plt.clf()\n",
    "acc = history.history['accuracy']\n",
    "val_acc = history.history['val_accuracy']\n",
    "plt.plot(epochs, acc, 'r', label='Training acc')\n",
    "plt.plot(epochs, val_acc, 'b', label='Validation acc')\n",
    "plt.title('Training and validation accuracy')\n",
    "plt.xlabel('Epochs')\n",
    "plt.ylabel('Loss')\n",
    "plt.legend()\n",
    "plt.show()"
   ]
  },
  {
   "cell_type": "code",
   "execution_count": 17,
   "id": "0fb363b0",
   "metadata": {},
   "outputs": [
    {
     "name": "stdout",
     "output_type": "stream",
     "text": [
      "3/3 [==============================] - 0s 3ms/step - loss: 0.1043 - accuracy: 1.0000\n"
     ]
    }
   ],
   "source": [
    "results = model.evaluate(x_test, one_hot_test_labels)"
   ]
  },
  {
   "cell_type": "code",
   "execution_count": 18,
   "id": "66ca6246",
   "metadata": {},
   "outputs": [
    {
     "data": {
      "text/plain": [
       "[0.10429603606462479, 1.0]"
      ]
     },
     "execution_count": 18,
     "metadata": {},
     "output_type": "execute_result"
    }
   ],
   "source": [
    "results "
   ]
  },
  {
   "cell_type": "code",
   "execution_count": 19,
   "id": "976e06da",
   "metadata": {},
   "outputs": [
    {
     "name": "stdout",
     "output_type": "stream",
     "text": [
      "3/3 [==============================] - 0s 2ms/step\n"
     ]
    },
    {
     "data": {
      "text/plain": [
       "(90, 3)"
      ]
     },
     "execution_count": 19,
     "metadata": {},
     "output_type": "execute_result"
    }
   ],
   "source": [
    "predictions = model.predict(x_test)\n",
    "predictions.shape"
   ]
  },
  {
   "cell_type": "code",
   "execution_count": 20,
   "id": "6f765605",
   "metadata": {},
   "outputs": [
    {
     "data": {
      "text/plain": [
       "1.0"
      ]
     },
     "execution_count": 20,
     "metadata": {},
     "output_type": "execute_result"
    }
   ],
   "source": [
    "import numpy as np\n",
    "np.sum(predictions[77])"
   ]
  },
  {
   "cell_type": "code",
   "execution_count": 21,
   "id": "382cc5d1",
   "metadata": {},
   "outputs": [
    {
     "data": {
      "text/plain": [
       "1"
      ]
     },
     "execution_count": 21,
     "metadata": {},
     "output_type": "execute_result"
    }
   ],
   "source": [
    "np.argmax(predictions[10])"
   ]
  },
  {
   "cell_type": "code",
   "execution_count": 22,
   "id": "4ed57717",
   "metadata": {},
   "outputs": [
    {
     "name": "stdout",
     "output_type": "stream",
     "text": [
      "1/1 [==============================] - 0s 37ms/step\n"
     ]
    },
    {
     "data": {
      "text/plain": [
       "(10, 3)"
      ]
     },
     "execution_count": 22,
     "metadata": {},
     "output_type": "execute_result"
    }
   ],
   "source": [
    "prediction1=model.predict(x_test[:10])\n",
    "prediction1.shape"
   ]
  },
  {
   "cell_type": "code",
   "execution_count": 23,
   "id": "112918ef",
   "metadata": {},
   "outputs": [],
   "source": [
    "\n",
    "# Define class names (assuming you have a mapping or know the class names)\n",
    "class_names = ['Millettia Pinnata (Pongamia/Indian Beech)_Ahlaq', 'Bougainvillea glabra_Poornima', 'Ficus benjamina L._Asnaff']  # Adjust according to your dataset\n",
    "\n"
   ]
  },
  {
   "cell_type": "code",
   "execution_count": 24,
   "id": "c0313680",
   "metadata": {},
   "outputs": [
    {
     "name": "stdout",
     "output_type": "stream",
     "text": [
      "Sample 1: Max Probability = 0.9794, Class Label = 2, Species Name = Ficus benjamina L._Asnaff\n",
      "Sample 2: Max Probability = 0.9040, Class Label = 1, Species Name = Bougainvillea glabra_Poornima\n",
      "Sample 3: Max Probability = 0.9795, Class Label = 2, Species Name = Ficus benjamina L._Asnaff\n",
      "Sample 4: Max Probability = 0.9844, Class Label = 0, Species Name = Millettia Pinnata (Pongamia/Indian Beech)_Ahlaq\n",
      "Sample 5: Max Probability = 0.9098, Class Label = 1, Species Name = Bougainvillea glabra_Poornima\n",
      "Sample 6: Max Probability = 0.9263, Class Label = 1, Species Name = Bougainvillea glabra_Poornima\n",
      "Sample 7: Max Probability = 0.9802, Class Label = 2, Species Name = Ficus benjamina L._Asnaff\n",
      "Sample 8: Max Probability = 0.9363, Class Label = 0, Species Name = Millettia Pinnata (Pongamia/Indian Beech)_Ahlaq\n",
      "Sample 9: Max Probability = 0.6293, Class Label = 1, Species Name = Bougainvillea glabra_Poornima\n",
      "Sample 10: Max Probability = 0.9771, Class Label = 2, Species Name = Ficus benjamina L._Asnaff\n"
     ]
    }
   ],
   "source": [
    "\n",
    "# Print the predicted class, probability, and class name for each of the first 10 samples\n",
    "for i, prediction in enumerate(prediction1):\n",
    "    class_index = np.argmax(prediction)  # Find the index of the max probability\n",
    "    max_probability = np.max(prediction)  # Find the max probability value\n",
    "    class_label = class_index # Adjust class index if labels are 1-based\n",
    "    class_name = class_names[class_index]  # Get the class name using the index\n",
    "    print(f\"Sample {i+1}: Max Probability = {max_probability:.4f}, Class Label = {class_label}, Species Name = {class_name}\")\n"
   ]
  },
  {
   "cell_type": "code",
   "execution_count": null,
   "id": "eaea8616",
   "metadata": {},
   "outputs": [],
   "source": []
  }
 ],
 "metadata": {
  "kernelspec": {
   "display_name": "Python 3 (ipykernel)",
   "language": "python",
   "name": "python3"
  },
  "language_info": {
   "codemirror_mode": {
    "name": "ipython",
    "version": 3
   },
   "file_extension": ".py",
   "mimetype": "text/x-python",
   "name": "python",
   "nbconvert_exporter": "python",
   "pygments_lexer": "ipython3",
   "version": "3.7.16"
  }
 },
 "nbformat": 4,
 "nbformat_minor": 5
}
